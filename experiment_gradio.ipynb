{
 "cells": [
  {
   "cell_type": "code",
   "execution_count": 4,
   "metadata": {},
   "outputs": [
    {
     "name": "stdout",
     "output_type": "stream",
     "text": [
      "Running on local URL:  http://127.0.0.1:7863\n",
      "\n",
      "To create a public link, set `share=True` in `launch()`.\n"
     ]
    },
    {
     "data": {
      "text/html": [
       "<div><iframe src=\"http://127.0.0.1:7863/\" width=\"100%\" height=\"500\" allow=\"autoplay; camera; microphone; clipboard-read; clipboard-write;\" frameborder=\"0\" allowfullscreen></iframe></div>"
      ],
      "text/plain": [
       "<IPython.core.display.HTML object>"
      ]
     },
     "metadata": {},
     "output_type": "display_data"
    },
    {
     "data": {
      "text/plain": []
     },
     "execution_count": 4,
     "metadata": {},
     "output_type": "execute_result"
    }
   ],
   "source": [
    "import gradio as gr\n",
    "from gradio import components\n",
    "\n",
    "def submit_form(hypothesis, material, implementation, observation, results, agreement):\n",
    "    # Process the form data\n",
    "    # You can add your own logic here\n",
    "    if agreement:\n",
    "        feedback = f\"Form submitted successfully!\\n\\n\" \\\n",
    "                   f\"Hypothesis: {hypothesis}\\n\" \\\n",
    "                   f\"Material: {material}\\n\" \\\n",
    "                   f\"Implementation: {implementation}\\n\" \\\n",
    "                   f\"Observation: {observation}\\n\" \\\n",
    "                   f\"Results: {results}\"\n",
    "    else:\n",
    "        feedback = \"Please agree to the data protection agreement before submitting the form.\"\n",
    "\n",
    "    return feedback\n",
    "\n",
    "form_inputs = [\n",
    "    components.Textbox(label=\"Hypothesis\"),\n",
    "    components.Textbox(label=\"Material\"),\n",
    "    components.Textbox(label=\"Implementation\"),\n",
    "    components.Textbox(label=\"Observation\"),\n",
    "    components.Textbox(label=\"Results\"),\n",
    "]\n",
    "\n",
    "form_output = components.Textbox(label=\"Feedback\")\n",
    "\n",
    "agreement_checkbox = components.Checkbox(label=\"I agree to the data protection agreement.\")\n",
    "\n",
    "description_html = \"<div style='text-align: center;'>Empower Your Experiments, Enhance Your Learning</div>\"\n",
    "\n",
    "iface = gr.Interface(fn=submit_form, inputs=form_inputs + [agreement_checkbox], outputs=form_output,\n",
    "                     title=\"ExperimentEvaluator\", description=description_html)\n",
    "\n",
    "iface.launch()\n",
    "\n"
   ]
  }
 ],
 "metadata": {
  "kernelspec": {
   "display_name": "deepl",
   "language": "python",
   "name": "python3"
  },
  "language_info": {
   "codemirror_mode": {
    "name": "ipython",
    "version": 3
   },
   "file_extension": ".py",
   "mimetype": "text/x-python",
   "name": "python",
   "nbconvert_exporter": "python",
   "pygments_lexer": "ipython3",
   "version": "3.10.11"
  },
  "orig_nbformat": 4
 },
 "nbformat": 4,
 "nbformat_minor": 2
}
