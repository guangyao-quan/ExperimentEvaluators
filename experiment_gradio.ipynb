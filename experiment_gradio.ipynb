{
 "cells": [
  {
   "cell_type": "code",
   "execution_count": 13,
   "metadata": {},
   "outputs": [
    {
     "name": "stderr",
     "output_type": "stream",
     "text": [
      "/opt/anaconda3/envs/deepl/lib/python3.10/site-packages/gradio/inputs.py:27: UserWarning: Usage of gradio.inputs is deprecated, and will not be supported in the future, please import your component from gradio.components\n",
      "  warnings.warn(\n",
      "/opt/anaconda3/envs/deepl/lib/python3.10/site-packages/gradio/inputs.py:30: UserWarning: `optional` parameter is deprecated, and it has no effect\n",
      "  super().__init__(\n",
      "/opt/anaconda3/envs/deepl/lib/python3.10/site-packages/gradio/inputs.py:30: UserWarning: `numeric` parameter is deprecated, and it has no effect\n",
      "  super().__init__(\n",
      "/opt/anaconda3/envs/deepl/lib/python3.10/site-packages/gradio/outputs.py:22: UserWarning: Usage of gradio.outputs is deprecated, and will not be supported in the future, please import your components from gradio.components\n",
      "  warnings.warn(\n",
      "/opt/anaconda3/envs/deepl/lib/python3.10/site-packages/gradio/inputs.py:121: UserWarning: Usage of gradio.inputs is deprecated, and will not be supported in the future, please import your component from gradio.components\n",
      "  warnings.warn(\n",
      "/opt/anaconda3/envs/deepl/lib/python3.10/site-packages/gradio/inputs.py:124: UserWarning: `optional` parameter is deprecated, and it has no effect\n",
      "  super().__init__(value=default, label=label, optional=optional)\n"
     ]
    },
    {
     "name": "stdout",
     "output_type": "stream",
     "text": [
      "Running on local URL:  http://127.0.0.1:7867\n",
      "\n",
      "To create a public link, set `share=True` in `launch()`.\n"
     ]
    },
    {
     "data": {
      "text/html": [
       "<div><iframe src=\"http://127.0.0.1:7867/\" width=\"100%\" height=\"500\" allow=\"autoplay; camera; microphone; clipboard-read; clipboard-write;\" frameborder=\"0\" allowfullscreen></iframe></div>"
      ],
      "text/plain": [
       "<IPython.core.display.HTML object>"
      ]
     },
     "metadata": {},
     "output_type": "display_data"
    },
    {
     "data": {
      "text/plain": []
     },
     "execution_count": 13,
     "metadata": {},
     "output_type": "execute_result"
    }
   ],
   "source": [
    "import gradio as gr\n",
    "\n",
    "def submit_form(hypothesis, material, implementation, observation, results, agreement):\n",
    "\n",
    "    #################################\n",
    "    #TODO: write the evaluation logic\n",
    "    #TODO: formate the feedback\n",
    "    #################################\n",
    "\n",
    "    if agreement:\n",
    "        feedback = f\"Form submitted successfully!\\n\\n\" \\\n",
    "                   f\"Hypothesis: {hypothesis}\\n\" \\\n",
    "                   f\"Material: {material}\\n\" \\\n",
    "                   f\"Implementation: {implementation}\\n\" \\\n",
    "                   f\"Observation: {observation}\\n\" \\\n",
    "                   f\"Results: {results}\"\n",
    "    else:\n",
    "        feedback = \"Please agree to the data agreement before submitting the form.\"\n",
    "\n",
    "    return feedback\n",
    "\n",
    "form_inputs = [\n",
    "    gr.inputs.Textbox(label=\"Hypothesis\"),\n",
    "    gr.inputs.Textbox(label=\"Material\"),\n",
    "    gr.inputs.Textbox(label=\"Implementation\"),\n",
    "    gr.inputs.Textbox(label=\"Observation\"),\n",
    "    gr.inputs.Textbox(label=\"Result\"),\n",
    "]\n",
    "\n",
    "form_output = gr.outputs.Textbox(label=\"Feedback\")\n",
    "\n",
    "agreement_checkbox = gr.inputs.Checkbox(label=\"I agree to the data agreement\")\n",
    "\n",
    "description_html = \"<div style='text-align: center;'>Empower Your Experiments, Enhance Your Learning</div>\"\n",
    "\n",
    "iface = gr.Interface(fn=submit_form, inputs=form_inputs + [agreement_checkbox], outputs=form_output,\n",
    "                     title=\"ExperimentEvaluator\", description=description_html)\n",
    "\n",
    "iface.launch()\n"
   ]
  }
 ],
 "metadata": {
  "kernelspec": {
   "display_name": "deepl",
   "language": "python",
   "name": "python3"
  },
  "language_info": {
   "codemirror_mode": {
    "name": "ipython",
    "version": 3
   },
   "file_extension": ".py",
   "mimetype": "text/x-python",
   "name": "python",
   "nbconvert_exporter": "python",
   "pygments_lexer": "ipython3",
   "version": "3.10.11"
  },
  "orig_nbformat": 4
 },
 "nbformat": 4,
 "nbformat_minor": 2
}
