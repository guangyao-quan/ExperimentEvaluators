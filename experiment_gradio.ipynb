{
 "cells": [
  {
   "cell_type": "code",
   "execution_count": 8,
   "metadata": {},
   "outputs": [
    {
     "name": "stdout",
     "output_type": "stream",
     "text": [
      "Running on local URL:  http://127.0.0.1:7866\n",
      "\n",
      "To create a public link, set `share=True` in `launch()`.\n"
     ]
    },
    {
     "data": {
      "text/html": [
       "<div><iframe src=\"http://127.0.0.1:7866/\" width=\"100%\" height=\"500\" allow=\"autoplay; camera; microphone; clipboard-read; clipboard-write;\" frameborder=\"0\" allowfullscreen></iframe></div>"
      ],
      "text/plain": [
       "<IPython.core.display.HTML object>"
      ]
     },
     "metadata": {},
     "output_type": "display_data"
    },
    {
     "data": {
      "text/plain": []
     },
     "execution_count": 8,
     "metadata": {},
     "output_type": "execute_result"
    }
   ],
   "source": [
    "import gradio as gr\n",
    "from gradio import components\n",
    "from transformers import GPT2LMHeadModel, GPT2Tokenizer\n",
    "\n",
    "model_name = \"gpt2-medium\"\n",
    "tokenizer = GPT2Tokenizer.from_pretrained(model_name)\n",
    "model = GPT2LMHeadModel.from_pretrained(model_name)\n",
    "\n",
    "logo_html = \"\"\"\n",
    "<div style=\"position: absolute; top: 10px; right: 10px;\">\n",
    "    <img src=\"templates/img/TUM_Logo_extern_mt_DE_RGB_j.jpg\" width=\"100\" height=\"100\">\n",
    "</div>\n",
    "\"\"\"\n",
    "\n",
    "def submit_form(hypothesis, material, implementation, observation, results, agreement):\n",
    "\n",
    "    hypothesis_custom = f\"The hypothesis of my experiment is: {hypothesis}, please check and evaluate it.\"\n",
    "    material_custom = f\"The material of my experiment is: {material}, please check and evaluate it.\"\n",
    "    implementation_custom = f\"The implementation of my experiment is: {implementation}, please check and evaluate it.\"\n",
    "    observation_custom = f\"The observation of my experiment is: {observation}, please check and evaluate it.\"\n",
    "    results_custom = f\"The results of my experiment is: {results}, please check and evaluate it.\"\n",
    "\n",
    "    hypothesis_token = tokenizer.encode(hypothesis_custom, return_tensors=\"pt\")\n",
    "    material_token = tokenizer.encode(material_custom, return_tensors=\"pt\")\n",
    "    implementation_token = tokenizer.encode(implementation_custom, return_tensors=\"pt\")\n",
    "    observation_token = tokenizer.encode(observation_custom, return_tensors=\"pt\")\n",
    "    results_token = tokenizer.encode(results_custom, return_tensors=\"pt\")\n",
    "    \n",
    "    hypothesis_output = model.generate(hypothesis_token, max_length=100, num_return_sequences=1, repetition_penalty=1.5)\n",
    "    material_output = model.generate(material_token, max_length=100, num_return_sequences=1, repetition_penalty=1.5)\n",
    "    implementation_output = model.generate(implementation_token, max_length=100, num_return_sequences=1, repetition_penalty=1.5)\n",
    "    observation_output = model.generate(observation_token, max_length=100, num_return_sequences=1, repetition_penalty=1.5)\n",
    "    results_output = model.generate(results_token, max_length=100, num_return_sequences=1, repetition_penalty=1.5)\n",
    "\n",
    "    hypothesis_eval = tokenizer.decode(hypothesis_output[0], skip_special_tokens=True)\n",
    "    material_eval = tokenizer.decode(material_output[0], skip_special_tokens=True)  \n",
    "    implementation_eval = tokenizer.decode(implementation_output[0], skip_special_tokens=True)\n",
    "    observation_eval = tokenizer.decode(observation_output[0], skip_special_tokens=True)\n",
    "    results_eval = tokenizer.decode(results_output[0], skip_special_tokens=True)\n",
    "\n",
    "    if agreement:\n",
    "        feedback = f\"Form submitted successfully!\\n\\n\" \\\n",
    "                   f\"Hypothesis: {hypothesis_eval}\\n\" \\\n",
    "                   f\"Material: {material_eval}\\n\" \\\n",
    "                   f\"Implementation: {implementation_eval}\\n\" \\\n",
    "                   f\"Observation: {observation_eval}\\n\" \\\n",
    "                   f\"Results: {results_eval}\"\n",
    "    else:\n",
    "        feedback = \"Please agree to the data protection agreement before submitting the form.\"\n",
    "\n",
    "    return feedback\n",
    "\n",
    "form_inputs = [\n",
    "    components.Textbox(label=\"Hypothesis\"),\n",
    "    components.Textbox(label=\"Material\"),\n",
    "    components.Textbox(label=\"Implementation\"),\n",
    "    components.Textbox(label=\"Observation\"),\n",
    "    components.Textbox(label=\"Results\"),\n",
    "]\n",
    "\n",
    "form_output = components.Textbox(label=\"Feedback\")\n",
    "\n",
    "agreement_checkbox = components.Checkbox(label=\"I agree to the data protection agreement.\")\n",
    "\n",
    "description_html = \"<div style='text-align: center;'>Empower Your Experiments, Enhance Your Learning</div>\"\n",
    "\n",
    "iface = gr.Interface(fn=submit_form, inputs=form_inputs + [agreement_checkbox], outputs=form_output,\n",
    "                     title=\"ExperimentEvaluator\", description=f\"{logo_html}\\n{description_html}\")\n",
    "\n",
    "iface.launch()"
   ]
  },
  {
   "cell_type": "code",
   "execution_count": 4,
   "metadata": {},
   "outputs": [],
   "source": []
  }
 ],
 "metadata": {
  "kernelspec": {
   "display_name": "deepl",
   "language": "python",
   "name": "python3"
  },
  "language_info": {
   "codemirror_mode": {
    "name": "ipython",
    "version": 3
   },
   "file_extension": ".py",
   "mimetype": "text/x-python",
   "name": "python",
   "nbconvert_exporter": "python",
   "pygments_lexer": "ipython3",
   "version": "3.10.11"
  },
  "orig_nbformat": 4
 },
 "nbformat": 4,
 "nbformat_minor": 2
}
